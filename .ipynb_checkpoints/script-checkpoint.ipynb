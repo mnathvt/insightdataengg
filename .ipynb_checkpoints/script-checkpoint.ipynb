{
 "cells": [
  {
   "cell_type": "code",
   "execution_count": 7,
   "metadata": {},
   "outputs": [],
   "source": [
    "import sys"
   ]
  },
  {
   "cell_type": "code",
   "execution_count": 9,
   "metadata": {},
   "outputs": [
    {
     "ename": "FileNotFoundError",
     "evalue": "[Errno 2] No such file or directory: '-f'",
     "output_type": "error",
     "traceback": [
      "\u001b[0;31m---------------------------------------------------------------------------\u001b[0m",
      "\u001b[0;31mFileNotFoundError\u001b[0m                         Traceback (most recent call last)",
      "\u001b[0;32m<ipython-input-9-fadba28749e4>\u001b[0m in \u001b[0;36m<module>\u001b[0;34m()\u001b[0m\n\u001b[1;32m      5\u001b[0m         \u001b[0mtime_window\u001b[0m \u001b[0;34m=\u001b[0m \u001b[0mint\u001b[0m\u001b[0;34m(\u001b[0m\u001b[0mfin\u001b[0m\u001b[0;34m.\u001b[0m\u001b[0mreadline\u001b[0m\u001b[0;34m(\u001b[0m\u001b[0;34m)\u001b[0m\u001b[0;34m)\u001b[0m\u001b[0;34m\u001b[0m\u001b[0m\n\u001b[1;32m      6\u001b[0m     \u001b[0;32mreturn\u001b[0m \u001b[0mtime_value\u001b[0m\u001b[0;34m\u001b[0m\u001b[0m\n\u001b[0;32m----> 7\u001b[0;31m \u001b[0mget_time_window\u001b[0m\u001b[0;34m(\u001b[0m\u001b[0mtime_file\u001b[0m\u001b[0;34m)\u001b[0m\u001b[0;34m\u001b[0m\u001b[0m\n\u001b[0m",
      "\u001b[0;32m<ipython-input-9-fadba28749e4>\u001b[0m in \u001b[0;36mget_time_window\u001b[0;34m(file)\u001b[0m\n\u001b[1;32m      2\u001b[0m \u001b[0mtime_file\u001b[0m \u001b[0;34m=\u001b[0m \u001b[0msys\u001b[0m\u001b[0;34m.\u001b[0m\u001b[0margv\u001b[0m\u001b[0;34m[\u001b[0m\u001b[0;36m1\u001b[0m\u001b[0;34m]\u001b[0m\u001b[0;34m\u001b[0m\u001b[0m\n\u001b[1;32m      3\u001b[0m \u001b[0;32mdef\u001b[0m \u001b[0mget_time_window\u001b[0m\u001b[0;34m(\u001b[0m\u001b[0mfile\u001b[0m\u001b[0;34m)\u001b[0m\u001b[0;34m:\u001b[0m\u001b[0;34m\u001b[0m\u001b[0m\n\u001b[0;32m----> 4\u001b[0;31m     \u001b[0;32mwith\u001b[0m \u001b[0mopen\u001b[0m\u001b[0;34m(\u001b[0m\u001b[0mfile\u001b[0m\u001b[0;34m,\u001b[0m \u001b[0;34m'r'\u001b[0m\u001b[0;34m)\u001b[0m \u001b[0;32mas\u001b[0m \u001b[0mfin\u001b[0m\u001b[0;34m:\u001b[0m\u001b[0;34m\u001b[0m\u001b[0m\n\u001b[0m\u001b[1;32m      5\u001b[0m         \u001b[0mtime_window\u001b[0m \u001b[0;34m=\u001b[0m \u001b[0mint\u001b[0m\u001b[0;34m(\u001b[0m\u001b[0mfin\u001b[0m\u001b[0;34m.\u001b[0m\u001b[0mreadline\u001b[0m\u001b[0;34m(\u001b[0m\u001b[0;34m)\u001b[0m\u001b[0;34m)\u001b[0m\u001b[0;34m\u001b[0m\u001b[0m\n\u001b[1;32m      6\u001b[0m     \u001b[0;32mreturn\u001b[0m \u001b[0mtime_value\u001b[0m\u001b[0;34m\u001b[0m\u001b[0m\n",
      "\u001b[0;31mFileNotFoundError\u001b[0m: [Errno 2] No such file or directory: '-f'"
     ]
    }
   ],
   "source": [
    "# reads the time window from the file and saves it in a variable\n",
    "\n",
    "with open('tests/test_1/input/window.txt', 'r') as fin:\n",
    "    time_window = int(fin.readline())\n",
    "time_window"
   ]
  },
  {
   "cell_type": "code",
   "execution_count": 2,
   "metadata": {},
   "outputs": [],
   "source": [
    "def get_error(hour):\n",
    "    '''returns the absolute error and count of entries/stocks for each hour'''\n",
    "    \n",
    "    #initialize an empty dict where stock ids and the actual price for every hour is loaded\n",
    "    data = {}\n",
    "    \n",
    "    count = 0\n",
    "    diff = 0\n",
    "    \n",
    "    with open('tests/test_1/input/actual.txt') as f1: \n",
    "        for line1 in f1:\n",
    "            if line1:\n",
    "                if line1.split('|')[0] == str(hour):\n",
    "                    stock_actual = line1.split('|')[1]\n",
    "                    price_actual = float(line1.split('|')[2].split()[0])\n",
    "\n",
    "                    data[stock_actual] = price_actual\n",
    "            #this \"data\" dict contains stock ids as the keys and the prices as the values\n",
    "            \n",
    "    #if the dictionary is not empty, now I check for the prices in the predicted file\n",
    "    \n",
    "    if data:\n",
    "        with open('tests/test_1/input/predicted.txt') as f2:\n",
    "                for line2 in f2:\n",
    "                    if line2:\n",
    "                        if line2.split('|')[0] == str(hour):\n",
    "                            stock_predicted = line2.split('|')[1]\n",
    "                            price_predicted = float(line2.split('|')[2].split()[0])\n",
    "\n",
    "                            # if the stock id from the predicted file present in the dictionary made\n",
    "                            # from the actual file, then save the difference of the actual prices\n",
    "                            # and the predicted prices in the variable \"diff\"\n",
    "                            # also store how many such stocks present\n",
    "                            \n",
    "                            try:\n",
    "                                if stock_predicted in data:\n",
    "                                    diff += abs(data.get(stock_predicted) - price_predicted)\n",
    "                                    count += 1\n",
    "\n",
    "                            except:\n",
    "                                continue\n",
    "\n",
    "                return diff, count"
   ]
  },
  {
   "cell_type": "code",
   "execution_count": 3,
   "metadata": {},
   "outputs": [
    {
     "name": "stdout",
     "output_type": "stream",
     "text": [
      "(20.38000000000009, 82)\n",
      "(22.59000000000011, 79)\n",
      "(19.440000000000122, 77)\n",
      "None\n"
     ]
    }
   ],
   "source": [
    "# checking if this code is working, it does. No errors here.\n",
    "print(get_error(147))\n",
    "print(get_error(148))\n",
    "print(get_error(149))\n",
    "print(get_error(1441))\n",
    "\n",
    "# summing these errors and the count values and finding the average gives the exact answer as expected."
   ]
  },
  {
   "cell_type": "code",
   "execution_count": 5,
   "metadata": {},
   "outputs": [],
   "source": [
    "# this part needs to use the error and count values \n",
    "# for a range of times starting from hour 1 and print out the avg values\n",
    "# for each of the time window.\n",
    "    \n",
    "def get_output():\n",
    "    with open('tests/test_1/input/actual.txt', 'r') as fin:\n",
    "        start_time = int(fin.readline().split('|')[0])\n",
    "        end_time = int(list(fin)[-1].split('|')[0])\n",
    "    #print(start_time, end_time)\n",
    "\n",
    "    with open('tests/test_2/comparison.txt', 'w') as fout:\n",
    "        while start_time < end_time:\n",
    "            #initializing the errors and counts to 0\n",
    "            start_hour_error, end_hour_error, start_hour_count, end_hour_count = 0, 0, 0, 0\n",
    "\n",
    "            # this gives the hour value which would be printed in the output file\n",
    "            end_hour = start_time + time_window - 1\n",
    "\n",
    "            # the error has to be calculated for every hour, so the \"hour\" variable is incremented by 1\n",
    "            hour = start_time + 1\n",
    "\n",
    "            # this if statement makes sure that we are calculating till the time provided at the end of the file\n",
    "            # it could be possible that there does not exist values for some hours\n",
    "\n",
    "            if hour <= min(start_time + time_window - 1, end_time):\n",
    "                e1, c1 = get_error(start_time)\n",
    "                e2, c2 = get_error(hour)\n",
    "\n",
    "                try:\n",
    "                    start_hour_error += e1\n",
    "                    start_hour_count += c1\n",
    "                    end_hour_error += e2\n",
    "                    end_hour_count += c2\n",
    "                except:\n",
    "                    pass\n",
    "\n",
    "            if end_hour <= end_time:\n",
    "                try:\n",
    "                    avg_error = round((start_hour_error + end_hour_error)/(start_hour_count + end_hour_count), 2)\n",
    "                    fout.write(str(start_time) + '|' + str(end_hour) + '|' + str(format(avg_error, '.2f')) + '\\n')\n",
    "                except:\n",
    "                    avg_error = 'NA'\n",
    "                    fout.write(str(start_time) + '|' + str(end_hour) + '|' + str(avg_error) + '\\n')\n",
    "            start_time += 1"
   ]
  },
  {
   "cell_type": "code",
   "execution_count": 6,
   "metadata": {},
   "outputs": [],
   "source": [
    "get_output()"
   ]
  },
  {
   "cell_type": "code",
   "execution_count": null,
   "metadata": {},
   "outputs": [],
   "source": []
  }
 ],
 "metadata": {
  "kernelspec": {
   "display_name": "Python 3",
   "language": "python",
   "name": "python3"
  },
  "language_info": {
   "codemirror_mode": {
    "name": "ipython",
    "version": 3
   },
   "file_extension": ".py",
   "mimetype": "text/x-python",
   "name": "python",
   "nbconvert_exporter": "python",
   "pygments_lexer": "ipython3",
   "version": "3.6.3"
  }
 },
 "nbformat": 4,
 "nbformat_minor": 2
}
