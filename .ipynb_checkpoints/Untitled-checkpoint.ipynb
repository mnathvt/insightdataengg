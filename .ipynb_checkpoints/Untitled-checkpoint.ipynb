{
 "cells": [
  {
   "cell_type": "code",
   "execution_count": 20,
   "metadata": {},
   "outputs": [
    {
     "data": {
      "text/plain": [
       "4"
      ]
     },
     "execution_count": 20,
     "metadata": {},
     "output_type": "execute_result"
    }
   ],
   "source": [
    "# reads the time window from the file and saves it in a variable\n",
    "\n",
    "with open('tests/test_1/input/window.txt', 'r') as fin:\n",
    "    time_window = int(fin.readline())\n",
    "time_window"
   ]
  },
  {
   "cell_type": "code",
   "execution_count": 17,
   "metadata": {},
   "outputs": [],
   "source": [
    "def get_error(hour):\n",
    "    '''returns the absolute error and count of entries/stocks for each hour'''\n",
    "    \n",
    "    #initialize an empty dict where stock ids and the actual price for every hour is loaded\n",
    "    data = {}\n",
    "    \n",
    "    count = 0\n",
    "    diff = 0\n",
    "    \n",
    "    with open('tests/test_1/input/actual.txt') as f1: \n",
    "        for line1 in f1:\n",
    "            if line1:\n",
    "                if line1.split('|')[0] == str(hour):\n",
    "                    stock_actual = line1.split('|')[1]\n",
    "                    price_actual = float(line1.split('|')[2].split()[0])\n",
    "\n",
    "                    data[stock_actual] = price_actual\n",
    "            #this \"data\" dict contains stock ids as the keys and the prices as the values\n",
    "            \n",
    "    #if the dictionary is not empty, now I check for the prices in the predicted file\n",
    "    \n",
    "    if data:\n",
    "        with open('tests/test_1/input/predicted.txt') as f2:\n",
    "                for line2 in f2:\n",
    "                    if line2:\n",
    "                        if line2.split('|')[0] == str(hour):\n",
    "                            stock_predicted = line2.split('|')[1]\n",
    "                            price_predicted = float(line2.split('|')[2].split()[0])\n",
    "\n",
    "                            # if the stock id from the predicted file present in the dictionary made\n",
    "                            # from the actual file, then save the difference of the actual prices\n",
    "                            # and the predicted prices in the variable \"diff\"\n",
    "                            # also store how many such stocks present\n",
    "                            \n",
    "                            try:\n",
    "                                if stock_predicted in data:\n",
    "                                    diff += abs(data.get(stock_predicted) - price_predicted)\n",
    "                                    count += 1\n",
    "\n",
    "                            except:\n",
    "                                continue\n",
    "\n",
    "                return diff, count"
   ]
  },
  {
   "cell_type": "code",
   "execution_count": 6,
   "metadata": {},
   "outputs": [
    {
     "name": "stdout",
     "output_type": "stream",
     "text": [
      "(2.429999999999925, 86)\n",
      "(2.5099999999998595, 77)\n",
      "(2.5899999999998364, 84)\n",
      "(3.000000000000064, 88)\n"
     ]
    }
   ],
   "source": [
    "#just checking if this code is working, it does. No errors here.\n",
    "print(get_error(52))\n",
    "print(get_error(53))\n",
    "print(get_error(54))\n",
    "print(get_error(55))\n",
    "\n",
    "# summing these errors and the count values and finding the average gives the exact answer as expected."
   ]
  },
  {
   "cell_type": "code",
   "execution_count": 18,
   "metadata": {},
   "outputs": [],
   "source": [
    "# this part needs to use the error and count values \n",
    "# for a range of times starting from hour 1 and print out the avg values\n",
    "# for each of the time window.\n",
    "# this is where the error occurs, although I can't find it where\n",
    "\n",
    "start_hour_error, start_hour_count, end_hour_error, end_hour_count = 0, 0, 0, 0\n",
    "    \n",
    "with open('tests/test_1/input/actual.txt', 'r') as fin:\n",
    "    hours = int(list(fin)[-1].split('|')[0])\n",
    "\n",
    "start_time = 1\n",
    "\n",
    "with open('tests/test_2/comparison.txt', 'w') as fout:\n",
    "    while start_time < hours:\n",
    "        end_time = start_time + 1\n",
    "        if end_time <= hours:\n",
    "            e1, c1 = get_error(start_time)\n",
    "            e2, c2 = get_error(end_time)\n",
    "\n",
    "            start_hour_error += e1\n",
    "            start_hour_count += c1\n",
    "            end_hour_error += e2\n",
    "            end_hour_count += c2\n",
    "\n",
    "        avg_error = round((start_hour_error + end_hour_error)/(start_hour_count + end_hour_count), 2)\n",
    "        fout.write(str(start_time)+ '|' + str(start_time + time_window - 1) + '|' + str(avg_error) + '\\n')\n",
    "        start_time += 1"
   ]
  },
  {
   "cell_type": "code",
   "execution_count": null,
   "metadata": {},
   "outputs": [],
   "source": []
  },
  {
   "cell_type": "code",
   "execution_count": null,
   "metadata": {},
   "outputs": [],
   "source": []
  },
  {
   "cell_type": "code",
   "execution_count": null,
   "metadata": {},
   "outputs": [],
   "source": []
  }
 ],
 "metadata": {
  "kernelspec": {
   "display_name": "Python 3",
   "language": "python",
   "name": "python3"
  },
  "language_info": {
   "codemirror_mode": {
    "name": "ipython",
    "version": 3
   },
   "file_extension": ".py",
   "mimetype": "text/x-python",
   "name": "python",
   "nbconvert_exporter": "python",
   "pygments_lexer": "ipython3",
   "version": "3.6.3"
  }
 },
 "nbformat": 4,
 "nbformat_minor": 2
}
